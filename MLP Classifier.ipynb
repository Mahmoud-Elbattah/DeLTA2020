{
  "nbformat": 4,
  "nbformat_minor": 0,
  "metadata": {
    "colab": {
      "name": "Copy of MIMIC_Classification.ipynb",
      "provenance": [],
      "collapsed_sections": [],
      "machine_shape": "hm"
    },
    "kernelspec": {
      "name": "python3",
      "display_name": "Python 3"
    },
    "accelerator": "GPU"
  },
  "cells": [
    {
      "cell_type": "code",
      "metadata": {
        "id": "kQ7fZS0oBwzO",
        "colab_type": "code",
        "colab": {}
      },
      "source": [
        "import numpy as np\n",
        "import pandas as pd\n",
        "from keras.models import Sequential\n",
        "from keras.layers import Dense, Dropout, Activation, Flatten\n",
        "from keras.utils import np_utils\n",
        "from sklearn.model_selection import train_test_split\n",
        "from sklearn.metrics import roc_auc_score,roc_curve,auc\n",
        "from sklearn.model_selection import StratifiedKFold\n",
        "from scipy import interp\n",
        "from sklearn import preprocessing\n",
        "import matplotlib.pyplot as plt\n",
        "from imblearn.over_sampling import SMOTE\n",
        "from collections import Counter\n",
        "from sklearn.metrics import precision_score, recall_score,precision_recall_curve"
      ],
      "execution_count": 0,
      "outputs": []
    },
    {
      "cell_type": "code",
      "metadata": {
        "id": "Oqf2DPfWCWB6",
        "colab_type": "code",
        "outputId": "da64c658-ffe8-4a61-ba5d-37c37ce5ac6c",
        "colab": {
          "base_uri": "https://localhost:8080/",
          "height": 136
        }
      },
      "source": [
        "df = pd.read_csv('MIMIC.csv')\n",
        "df.iloc[:, 1:] = preprocessing.MinMaxScaler().fit_transform(df.iloc[:, 1:])\n",
        "\n",
        "print(df.shape)\n",
        "print(df.columns)\n",
        "print(Counter(df['Label'].values))"
      ],
      "execution_count": 0,
      "outputs": [
        {
          "output_type": "stream",
          "text": [
            "(12691, 137)\n",
            "Index(['Label', 'X0', 'X1', 'X2', 'X3', 'X4', 'X5', 'X6', 'X7', 'X8',\n",
            "       ...\n",
            "       'X126', 'X127', 'X128', 'X129', 'X130', 'X131', 'X132', 'X133', 'X134',\n",
            "       'X135'],\n",
            "      dtype='object', length=137)\n",
            "Counter({0: 11096, 1: 1595})\n"
          ],
          "name": "stdout"
        }
      ]
    },
    {
      "cell_type": "code",
      "metadata": {
        "id": "w1ncYijhdpig",
        "colab_type": "code",
        "outputId": "bcd30e1e-d855-4bcd-8c88-b52d27a9e02a",
        "colab": {
          "base_uri": "https://localhost:8080/",
          "height": 51
        }
      },
      "source": [
        "#Preparing holdout set\n",
        "posCount= 600\n",
        "holdout_pos = df[df['Label']==1].sample(n=posCount, random_state=1)\n",
        "#print(holdout_pos.head())\n",
        "df = df.drop(holdout_pos.index)\n",
        "\n",
        "negCount= 2400\n",
        "holdout_neg = df[df['Label']==0].sample(n=negCount, random_state=1)\n",
        "\n",
        "df = df.drop(holdout_neg.index)\n",
        "holdout = pd.concat([holdout_pos, holdout_neg])\n",
        "\n",
        "print(df.shape)\n",
        "print(holdout.shape)"
      ],
      "execution_count": 0,
      "outputs": [
        {
          "output_type": "stream",
          "text": [
            "(9691, 137)\n",
            "(3000, 137)\n"
          ],
          "name": "stdout"
        }
      ]
    },
    {
      "cell_type": "code",
      "metadata": {
        "id": "MHkhzucCjlTP",
        "colab_type": "code",
        "outputId": "f67a64c8-9d31-4875-d053-98c1d8bbdaa8",
        "colab": {
          "base_uri": "https://localhost:8080/",
          "height": 51
        }
      },
      "source": [
        "X_test = holdout.iloc[:, 1:].values\n",
        "y_test = holdout['Label'].values\n",
        "print(Counter(y_test))\n",
        "\n",
        "X_train = df.iloc[:, 1:].values\n",
        "y_train = df['Label'].values\n",
        "print(Counter(y_train))"
      ],
      "execution_count": 0,
      "outputs": [
        {
          "output_type": "stream",
          "text": [
            "Counter({0: 2400, 1: 600})\n",
            "Counter({0: 8696, 1: 995})\n"
          ],
          "name": "stdout"
        }
      ]
    },
    {
      "cell_type": "code",
      "metadata": {
        "id": "eKmRrna0Qrte",
        "colab_type": "code",
        "colab": {}
      },
      "source": [
        "nEpochs = 10\n",
        "nBatch= 50\n",
        "inputDim = X_train.shape[1] # Count of features"
      ],
      "execution_count": 0,
      "outputs": []
    },
    {
      "cell_type": "code",
      "metadata": {
        "id": "PGECJEWMGgqD",
        "colab_type": "code",
        "outputId": "d55597b3-ad41-43e4-d90b-9d4ae284ac36",
        "colab": {
          "base_uri": "https://localhost:8080/",
          "height": 374
        }
      },
      "source": [
        "model = Sequential()\n",
        "\n",
        "model.add(Dense(64, input_dim=inputDim, activation='relu'))\n",
        "model.add(Dropout(0.2))\n",
        "\n",
        "model.add(Dense(32, activation='relu'))\n",
        "model.add(Dropout(0.2))\n",
        "\n",
        "model.add(Dense(16, activation='relu'))\n",
        "model.add(Dropout(0.2))\n",
        "model.add(Dense(1, activation='sigmoid'))\n",
        "\n",
        "#model.summary()\n",
        "\n",
        "model.compile(loss='binary_crossentropy', \n",
        "              optimizer='adam',\n",
        "              metrics=['accuracy'])\n",
        "\n",
        "# Fiting the model \n",
        "hist = model.fit(X_train, y_train,\n",
        "          validation_split=0.2, \n",
        "          epochs=nEpochs, \n",
        "          batch_size=nBatch,\n",
        "          verbose=1)"
      ],
      "execution_count": 0,
      "outputs": [
        {
          "output_type": "stream",
          "text": [
            "Train on 7752 samples, validate on 1939 samples\n",
            "Epoch 1/10\n",
            "7752/7752 [==============================] - 1s 101us/step - loss: 0.3371 - accuracy: 0.8885 - val_loss: 0.2877 - val_accuracy: 0.8881\n",
            "Epoch 2/10\n",
            "7752/7752 [==============================] - 1s 74us/step - loss: 0.2753 - accuracy: 0.9011 - val_loss: 0.2759 - val_accuracy: 0.8922\n",
            "Epoch 3/10\n",
            "7752/7752 [==============================] - 1s 70us/step - loss: 0.2670 - accuracy: 0.9013 - val_loss: 0.2728 - val_accuracy: 0.8927\n",
            "Epoch 4/10\n",
            "7752/7752 [==============================] - 1s 72us/step - loss: 0.2641 - accuracy: 0.9029 - val_loss: 0.2692 - val_accuracy: 0.8922\n",
            "Epoch 5/10\n",
            "7752/7752 [==============================] - 1s 70us/step - loss: 0.2604 - accuracy: 0.9036 - val_loss: 0.2683 - val_accuracy: 0.8901\n",
            "Epoch 6/10\n",
            "7752/7752 [==============================] - 1s 74us/step - loss: 0.2597 - accuracy: 0.9009 - val_loss: 0.2684 - val_accuracy: 0.8886\n",
            "Epoch 7/10\n",
            "7752/7752 [==============================] - 1s 71us/step - loss: 0.2572 - accuracy: 0.9034 - val_loss: 0.2697 - val_accuracy: 0.8876\n",
            "Epoch 8/10\n",
            "7752/7752 [==============================] - 1s 75us/step - loss: 0.2562 - accuracy: 0.9040 - val_loss: 0.2683 - val_accuracy: 0.8922\n",
            "Epoch 9/10\n",
            "7752/7752 [==============================] - 1s 75us/step - loss: 0.2483 - accuracy: 0.9044 - val_loss: 0.2662 - val_accuracy: 0.8922\n",
            "Epoch 10/10\n",
            "7752/7752 [==============================] - 1s 78us/step - loss: 0.2530 - accuracy: 0.9045 - val_loss: 0.2668 - val_accuracy: 0.8886\n"
          ],
          "name": "stdout"
        }
      ]
    },
    {
      "cell_type": "code",
      "metadata": {
        "id": "lUqHQ18_2nx-",
        "colab_type": "code",
        "outputId": "654430c5-d2f3-4571-f6b7-402dbbfc5cd0",
        "colab": {
          "base_uri": "https://localhost:8080/",
          "height": 279
        }
      },
      "source": [
        "#Plotting model loss\n",
        "hist_df = pd.DataFrame(hist.history)\n",
        "#print(hist_df)\n",
        "\n",
        "plt.plot(hist_df['loss'])\n",
        "plt.plot(hist_df['val_loss'])\n",
        "\n",
        "plt.ylabel('Loss')\n",
        "plt.xlabel('Epoch')\n",
        "plt.legend(['train_loss', 'val_loss'], loc='upper right')\n",
        "plt.ylim(.95*hist_df[1:].values.min(), 0.45*hist_df[1:].values.max())\n",
        "plt.savefig('Loss.png', dpi=600, quality=100)"
      ],
      "execution_count": 0,
      "outputs": [
        {
          "output_type": "display_data",
          "data": {
            "image/png": "[encoded data removed]",
            "text/plain": [
              "<Figure size 432x288 with 1 Axes>"
            ]
          },
          "metadata": {
            "tags": [],
            "needs_background": "light"
          }
        }
      ]
    },
    {
      "cell_type": "code",
      "metadata": {
        "id": "oa_v_Y75ue-j",
        "colab_type": "code",
        "outputId": "26f2fe5a-3d27-4d27-a0d8-1bc6ccd32b1f",
        "colab": {
          "base_uri": "https://localhost:8080/",
          "height": 333
        }
      },
      "source": [
        "#Plotting ROC curve\n",
        "predictions = model.predict(X_test)\n",
        "tprs = []\n",
        "aucs = []\n",
        "mean_fpr = np.linspace(0, 1, 100)\n",
        " \n",
        "fpr, tpr, thresholds = roc_curve(y_test, predictions)\n",
        "\n",
        "tprs.append(interp(mean_fpr, fpr, tpr))\n",
        "tprs[-1][0] = 0.0\n",
        "\n",
        "# Drawing line from origin represnting random predictions\n",
        "plt.plot([0, 1], [0, 1], linestyle='--', lw=2, color='black',alpha=0.2)\n",
        "\n",
        "#Adding to ROC plot\n",
        "mean_tpr = np.mean(tprs, axis=0)\n",
        "mean_tpr[-1] = 1.0\n",
        "mean_auc = auc(mean_fpr, mean_tpr)\n",
        "\n",
        "plt.plot(mean_fpr, mean_tpr, color='blue',\n",
        "         label=r'(AUC≈%0.2f)' % (mean_auc),\n",
        "         lw=2, alpha=0.8)\n",
        "\n",
        "\n",
        "plt.xlabel('False Positive Rate')\n",
        "plt.ylabel('True Positive Rate')\n",
        "plt.legend(loc=\"lower right\")\n",
        "#plt.title('ROC Curve')\n",
        "#plt.show()\n",
        "plt.savefig('ROC.png', dpi=600, quality=100)\n"
      ],
      "execution_count": 0,
      "outputs": [
        {
          "output_type": "stream",
          "text": [
            "/usr/local/lib/python3.6/dist-packages/ipykernel_launcher.py:7: DeprecationWarning: scipy.interp is deprecated and will be removed in SciPy 2.0.0, use numpy.interp instead\n",
            "  import sys\n"
          ],
          "name": "stderr"
        },
        {
          "output_type": "display_data",
          "data": {
            "image/png": "[encoded data removed]",
            "text/plain": [
              "<Figure size 432x288 with 1 Axes>"
            ]
          },
          "metadata": {
            "tags": [],
            "needs_background": "light"
          }
        }
      ]
    },
    {
      "cell_type": "code",
      "metadata": {
        "id": "wb_VsJsqqVmJ",
        "colab_type": "code",
        "outputId": "4468943a-dcc1-43ea-a03f-3a99df306716",
        "colab": {
          "base_uri": "https://localhost:8080/",
          "height": 313
        }
      },
      "source": [
        "#Plotting Precision-Recall curve\n",
        "randomLine = len(y_test[y_test==1]) / len(y_test)\n",
        "print(randomLine)\n",
        "plt.plot([0, 1], [randomLine, randomLine], linestyle='--', alpha=0.8, color='gray')\n",
        "\n",
        "#plot the model precision-recall curve\n",
        "precision, recall, thresholds = precision_recall_curve(y_test, predictions)\n",
        "auc_score = auc(recall, precision)\n",
        "print(auc_score)\n",
        "\n",
        "plt.plot(recall, precision, alpha=0.8, color='blue', label='(AUC≈%0.2f)' % (auc_score))\n",
        "\n",
        "plt.xlabel('Recall')\n",
        "plt.ylabel('Precision')\n",
        "plt.legend(loc=\"upper right\")\n",
        "plt.savefig('Pr-Rec.png', dpi=600, quality=100)"
      ],
      "execution_count": 0,
      "outputs": [
        {
          "output_type": "stream",
          "text": [
            "0.2\n",
            "0.5984262891190066\n"
          ],
          "name": "stdout"
        },
        {
          "output_type": "display_data",
          "data": {
            "image/png": "[encoded data removed]",
            "text/plain": [
              "<Figure size 432x288 with 1 Axes>"
            ]
          },
          "metadata": {
            "tags": [],
            "needs_background": "light"
          }
        }
      ]
    }
  ]
}